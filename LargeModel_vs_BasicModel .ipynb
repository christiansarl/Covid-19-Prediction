{
 "cells": [
  {
   "cell_type": "markdown",
   "id": "0a9ba0ee-042b-4c3b-8dce-6b254cb105df",
   "metadata": {},
   "source": [
    "## Comparing the result of Larger model to Basic Model ##"
   ]
  },
  {
   "cell_type": "code",
   "execution_count": 1,
   "id": "8a675847-3189-4f0c-a127-9cbac788b583",
   "metadata": {},
   "outputs": [
    {
     "name": "stderr",
     "output_type": "stream",
     "text": [
      "C:\\Users\\chris\\AppData\\Local\\Temp\\ipykernel_22260\\1521273946.py:1: DeprecationWarning: \n",
      "Pyarrow will become a required dependency of pandas in the next major release of pandas (pandas 3.0),\n",
      "(to allow more performant data types, such as the Arrow string type, and better interoperability with other libraries)\n",
      "but was not found to be installed on your system.\n",
      "If this would cause problems for you,\n",
      "please provide us feedback at https://github.com/pandas-dev/pandas/issues/54466\n",
      "        \n",
      "  import pandas as pd\n"
     ]
    }
   ],
   "source": [
    "import pandas as pd\n",
    "import matplotlib.pyplot as plt\n",
    "import numpy as np"
   ]
  },
  {
   "cell_type": "markdown",
   "id": "43bda27a-ef3b-4eb9-bda9-289d41b670aa",
   "metadata": {},
   "source": [
    "**Metrics from larger model (more than 3 features)**"
   ]
  },
  {
   "cell_type": "code",
   "execution_count": 2,
   "id": "29f0ec7b-e6ad-4c3a-893d-bfa8dcc8d9f4",
   "metadata": {},
   "outputs": [
    {
     "data": {
      "text/html": [
       "<div>\n",
       "<style scoped>\n",
       "    .dataframe tbody tr th:only-of-type {\n",
       "        vertical-align: middle;\n",
       "    }\n",
       "\n",
       "    .dataframe tbody tr th {\n",
       "        vertical-align: top;\n",
       "    }\n",
       "\n",
       "    .dataframe thead th {\n",
       "        text-align: right;\n",
       "    }\n",
       "</style>\n",
       "<table border=\"1\" class=\"dataframe\">\n",
       "  <thead>\n",
       "    <tr style=\"text-align: right;\">\n",
       "      <th></th>\n",
       "      <th>fit_time</th>\n",
       "      <th>score_time</th>\n",
       "      <th>test_accuracy</th>\n",
       "      <th>test_precision</th>\n",
       "      <th>test_f1</th>\n",
       "      <th>test_recall</th>\n",
       "      <th>test_roc_auc</th>\n",
       "    </tr>\n",
       "  </thead>\n",
       "  <tbody>\n",
       "    <tr>\n",
       "      <th>random_forest</th>\n",
       "      <td>0.237674</td>\n",
       "      <td>0.032417</td>\n",
       "      <td>0.994667</td>\n",
       "      <td>1.0</td>\n",
       "      <td>0.990909</td>\n",
       "      <td>0.982609</td>\n",
       "      <td>0.999833</td>\n",
       "    </tr>\n",
       "  </tbody>\n",
       "</table>\n",
       "</div>"
      ],
      "text/plain": [
       "               fit_time  score_time  test_accuracy  test_precision   test_f1  \\\n",
       "random_forest  0.237674    0.032417       0.994667             1.0  0.990909   \n",
       "\n",
       "               test_recall  test_roc_auc  \n",
       "random_forest     0.982609      0.999833  "
      ]
     },
     "execution_count": 2,
     "metadata": {},
     "output_type": "execute_result"
    }
   ],
   "source": [
    "metrics1= {'random_forest': {'fit_time': 0.2376741886138916, 'score_time': 0.032416582107543945, 'test_accuracy': 0.9946666666666667, 'test_precision': 1.0, 'test_f1': 0.990909090909091, 'test_recall': 0.9826086956521738, 'test_roc_auc': 0.9998327759197323},\n",
    "           'decision_tree': {'fit_time': 0.009072303771972656, 'score_time': 0.020238924026489257, 'test_accuracy': 0.9493333333333334, 'test_precision': 0.9465694351642618, 'test_f1': 0.9416951524227795, 'test_recall': 0.9383192449111103, 'test_roc_auc': 0.9469375024702773},\n",
    "           'svm': {'fit_time': 0.008670568466186523, 'score_time': 0.02112569808959961, 'test_accuracy': 0.9653333333333333, 'test_precision': 0.9572222222222223, 'test_f1': 0.9551115331635088, 'test_recall': 0.9534892536295061, 'test_roc_auc': 0.9968584072444706}}\n",
    "df_morefeatures=pd.DataFrame(metrics1)\n",
    "random_forest_metrics1 = metrics1['random_forest']\n",
    "df1 = pd.DataFrame(random_forest_metrics1, index=['random_forest'])\n",
    "df1"
   ]
  },
  {
   "cell_type": "code",
   "execution_count": 13,
   "id": "12df7ed5-22c5-4521-9a06-25d8a04e86fd",
   "metadata": {},
   "outputs": [
    {
     "name": "stdout",
     "output_type": "stream",
     "text": [
      "Best model based on test_accuracy: random_forest\n",
      "Details:\n",
      "{'fit_time': 0.2376741886138916, 'score_time': 0.032416582107543945, 'test_accuracy': 0.9946666666666667, 'test_precision': 1.0, 'test_f1': 0.990909090909091, 'test_recall': 0.9826086956521738, 'test_roc_auc': 0.9998327759197323}\n"
     ]
    }
   ],
   "source": [
    "# Select the metric for comparison (e.g., accuracy)\n",
    "metric_to_compare = 'test_accuracy'\n",
    "\n",
    "# Find the model with the highest accuracy\n",
    "best_model = max(metrics1, key=lambda model: metrics1[model][metric_to_compare])\n",
    "\n",
    "# Print details of the best model\n",
    "print(f\"Best model based on {metric_to_compare}: {best_model}\")\n",
    "print(\"Details:\")\n",
    "print(metrics1[best_model])"
   ]
  },
  {
   "cell_type": "markdown",
   "id": "15b6caf9-b305-482b-85b7-562fc7a81aea",
   "metadata": {},
   "source": [
    "**Metrics from Basic Model (3 feature)**"
   ]
  },
  {
   "cell_type": "code",
   "execution_count": 3,
   "id": "89ef47a9-8c52-4371-ac9a-4e125f43e6c1",
   "metadata": {},
   "outputs": [
    {
     "data": {
      "text/html": [
       "<div>\n",
       "<style scoped>\n",
       "    .dataframe tbody tr th:only-of-type {\n",
       "        vertical-align: middle;\n",
       "    }\n",
       "\n",
       "    .dataframe tbody tr th {\n",
       "        vertical-align: top;\n",
       "    }\n",
       "\n",
       "    .dataframe thead th {\n",
       "        text-align: right;\n",
       "    }\n",
       "</style>\n",
       "<table border=\"1\" class=\"dataframe\">\n",
       "  <thead>\n",
       "    <tr style=\"text-align: right;\">\n",
       "      <th></th>\n",
       "      <th>fit_time</th>\n",
       "      <th>score_time</th>\n",
       "      <th>test_accuracy</th>\n",
       "      <th>test_precision</th>\n",
       "      <th>test_f1</th>\n",
       "      <th>test_recall</th>\n",
       "      <th>test_roc_auc</th>\n",
       "    </tr>\n",
       "  </thead>\n",
       "  <tbody>\n",
       "    <tr>\n",
       "      <th>random_forest</th>\n",
       "      <td>0.213777</td>\n",
       "      <td>0.031955</td>\n",
       "      <td>0.981333</td>\n",
       "      <td>0.974827</td>\n",
       "      <td>0.97585</td>\n",
       "      <td>0.977203</td>\n",
       "      <td>0.999047</td>\n",
       "    </tr>\n",
       "  </tbody>\n",
       "</table>\n",
       "</div>"
      ],
      "text/plain": [
       "               fit_time  score_time  test_accuracy  test_precision  test_f1  \\\n",
       "random_forest  0.213777    0.031955       0.981333        0.974827  0.97585   \n",
       "\n",
       "               test_recall  test_roc_auc  \n",
       "random_forest     0.977203      0.999047  "
      ]
     },
     "execution_count": 3,
     "metadata": {},
     "output_type": "execute_result"
    }
   ],
   "source": [
    "metrics2= {'random_forest': {'fit_time': 0.21377696990966796, 'score_time': 0.03195457458496094, 'test_accuracy': 0.9813333333333333, 'test_precision': 0.9748272195640617, 'test_f1': 0.9758497652582159, 'test_recall': 0.9772032902467686, 'test_roc_auc': 0.9990466086575926},\n",
    "           'decision_tree': {'fit_time': 0.0, 'score_time': 0.012889862060546875, 'test_accuracy': 0.9546666666666667, 'test_precision': 0.9625225225225226, 'test_f1': 0.9450302697843682, 'test_recall': 0.9286969518105563, 'test_roc_auc': 0.9496622410874643}, \n",
    "           'svm': {'fit_time': 0.006820583343505859, 'score_time': 0.014706993103027343, 'test_accuracy': 0.9760000000000002, 'test_precision': 0.9574733824733824, 'test_f1': 0.9670679988499137, 'test_recall': 0.9772032902467686, 'test_roc_auc': 0.9916552684545599}}\n",
    "\n",
    "df_3features=pd.DataFrame(metrics2)\n",
    "random_forest_metrics2 = metrics2['random_forest']\n",
    "df2 = pd.DataFrame(random_forest_metrics2, index=['random_forest'])\n",
    "df2"
   ]
  },
  {
   "cell_type": "code",
   "execution_count": 14,
   "id": "2af966eb-3594-4376-a0b4-42e837fb0324",
   "metadata": {},
   "outputs": [
    {
     "name": "stdout",
     "output_type": "stream",
     "text": [
      "Best model based on test_accuracy: random_forest\n",
      "Details:\n",
      "{'fit_time': 0.21377696990966796, 'score_time': 0.03195457458496094, 'test_accuracy': 0.9813333333333333, 'test_precision': 0.9748272195640617, 'test_f1': 0.9758497652582159, 'test_recall': 0.9772032902467686, 'test_roc_auc': 0.9990466086575926}\n"
     ]
    }
   ],
   "source": [
    "# Select the metric for comparison (e.g., accuracy)\n",
    "metric_to_compare = 'test_accuracy'\n",
    "\n",
    "# Find the model with the highest accuracy\n",
    "best_model = max(metrics2, key=lambda model: metrics2[model][metric_to_compare])\n",
    "\n",
    "# Print details of the best model\n",
    "print(f\"Best model based on {metric_to_compare}: {best_model}\")\n",
    "print(\"Details:\")\n",
    "print(metrics2[best_model])"
   ]
  },
  {
   "cell_type": "code",
   "execution_count": 11,
   "id": "2c6ee426-ef53-4404-9183-2feeecf85efd",
   "metadata": {},
   "outputs": [
    {
     "data": {
      "image/png": "[encoded data removed]",
      "text/plain": [
       "<Figure size 640x480 with 1 Axes>"
      ]
     },
     "metadata": {},
     "output_type": "display_data"
    }
   ],
   "source": [
    "# Combine the two DataFrames with specific labels\n",
    "combined_df = pd.concat([df1, df2], keys=['Large Model', 'Basic Model'])\n",
    "\n",
    "# Extract the metrics names for the x-axis ticks\n",
    "metrics_names = combined_df.columns\n",
    "\n",
    "n = len(metrics_names)\n",
    "r = np.arange(n)\n",
    "width = 0.4\n",
    "\n",
    "for i, (index, row) in enumerate(combined_df.iterrows()):\n",
    "    plt.bar(r + width * i, row, width=width, label=index[0])  # Extract the label from the index tuple\n",
    "\n",
    "plt.ylabel(\"Metric Value\")\n",
    "plt.title('Comparison of Random Forest Metrics of The Two Models')\n",
    "plt.xticks(r + width * (len(combined_df) - 1) / 2, metrics_names, rotation=45, ha=\"right\")  # Rotate x-axis labels for better readability\n",
    "plt.legend(title='Result')\n",
    "plt.show()"
   ]
  }
 ],
 "metadata": {
  "kernelspec": {
   "display_name": "Python 3 (ipykernel)",
   "language": "python",
   "name": "python3"
  },
  "language_info": {
   "codemirror_mode": {
    "name": "ipython",
    "version": 3
   },
   "file_extension": ".py",
   "mimetype": "text/x-python",
   "name": "python",
   "nbconvert_exporter": "python",
   "pygments_lexer": "ipython3",
   "version": "3.12.0"
  }
 },
 "nbformat": 4,
 "nbformat_minor": 5
}
